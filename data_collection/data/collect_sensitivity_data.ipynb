{
 "cells": [
  {
   "cell_type": "code",
   "execution_count": 18,
   "metadata": {},
   "outputs": [],
   "source": [
    "import json\n",
    "from pprint import pprint"
   ]
  },
  {
   "cell_type": "code",
   "execution_count": 21,
   "metadata": {},
   "outputs": [],
   "source": [
    "with open('./large_net/fixed_large_dis_data.json', 'r') as f:\n",
    "    map_data = json.load(f)\n",
    "\n",
    "flat_dict = map_data.copy()\n",
    "smooth_dict = map_data.copy()"
   ]
  },
  {
   "cell_type": "markdown",
   "metadata": {},
   "source": [
    "Smooth Dictionary"
   ]
  },
  {
   "cell_type": "code",
   "execution_count": 27,
   "metadata": {},
   "outputs": [],
   "source": [
    "for key,value in smooth_dict.items():\n",
    "    value['smooth'] = True\n",
    "\n",
    "with open(\"./smooth_net/smooth_map_data.json\", \"w\") as file:\n",
    "    json.dump(smooth_dict, file, indent=4)\n"
   ]
  },
  {
   "cell_type": "markdown",
   "metadata": {},
   "source": [
    "Flat Dictionary"
   ]
  },
  {
   "cell_type": "code",
   "execution_count": 20,
   "metadata": {},
   "outputs": [],
   "source": [
    "for key,value in flat_dict.items():\n",
    "    for section, data in value.items():\n",
    "        if 'section' in section:\n",
    "            data['climb'] = 0\n",
    "            data['avg_incline_angle'] = 0\n",
    "\n",
    "with open(\"./flat_net/flat_map_data.json\", \"w\") as file:\n",
    "    json.dump(flat_dict, file, indent=4)\n"
   ]
  }
 ],
 "metadata": {
  "kernelspec": {
   "display_name": "vrpvenv (Python 3.13.0)",
   "language": "python",
   "name": "vrpvenv"
  },
  "language_info": {
   "codemirror_mode": {
    "name": "ipython",
    "version": 3
   },
   "file_extension": ".py",
   "mimetype": "text/x-python",
   "name": "python",
   "nbconvert_exporter": "python",
   "pygments_lexer": "ipython3",
   "version": "3.13.0"
  }
 },
 "nbformat": 4,
 "nbformat_minor": 2
}
