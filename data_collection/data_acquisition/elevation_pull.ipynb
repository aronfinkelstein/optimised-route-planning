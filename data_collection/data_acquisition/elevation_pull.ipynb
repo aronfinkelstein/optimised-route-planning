{
 "cells": [
  {
   "cell_type": "markdown",
   "metadata": {},
   "source": [
    "# Script to test elevation data pull"
   ]
  },
  {
   "cell_type": "code",
   "execution_count": 1,
   "metadata": {},
   "outputs": [
    {
     "data": {
      "text/plain": [
       "True"
      ]
     },
     "execution_count": 1,
     "metadata": {},
     "output_type": "execute_result"
    }
   ],
   "source": [
    "import requests\n",
    "import os\n",
    "import requests\n",
    "import pandas as pd\n",
    "import elevation_pull as evp\n",
    "import geopy\n",
    "import json\n",
    "from pprint import pprint\n",
    "from dotenv import load_dotenv\n",
    "\n",
    "load_dotenv()"
   ]
  },
  {
   "cell_type": "markdown",
   "metadata": {},
   "source": [
    "Reading OSM data and collecting paths as linestrings:"
   ]
  },
  {
   "cell_type": "code",
   "execution_count": 8,
   "metadata": {},
   "outputs": [
    {
     "name": "stdout",
     "output_type": "stream",
     "text": [
      "11139\n"
     ]
    }
   ],
   "source": [
    "edge_df = pd.read_csv(\"../data/large_edge_data.csv\")\n",
    "path_data = edge_df[\"geometry\"].to_list()\n",
    "nodes1 = edge_df['u'].to_list()\n",
    "nodes2 = edge_df['v'].to_list()\n",
    "osmids = edge_df['osmid'].to_list()\n",
    "\n",
    "speed_data_str = edge_df[\"maxspeed\"].to_list()\n",
    "speed_data = []\n",
    "\n",
    "\n",
    "print (len(osmids))"
   ]
  },
  {
   "cell_type": "code",
   "execution_count": 3,
   "metadata": {},
   "outputs": [],
   "source": [
    "\n",
    "# with open(\"../data/test_data.json\", \"r\") as file:\n",
    "#     data = json.load(file)\n",
    "#     distances = []\n",
    "#     for path, sections in data.items():  # Iterate over paths\n",
    "#         for section_name, section in sections.items():\n",
    "#             if \"section\" in section_name:\n",
    "#               # Iterate over sections\n",
    "#                 distance = section[\"distance\"]\n",
    "#                 distances.append(distance)\n",
    "#     print(max(distances))"
   ]
  },
  {
   "cell_type": "code",
   "execution_count": 4,
   "metadata": {},
   "outputs": [],
   "source": [
    "# with open(\"../data/test_data.json\", \"r\") as file:\n",
    "#     road_data = json.load(file)\n",
    "\n",
    "# i = 0\n",
    "# for i in range(len(path_data)-1):\n",
    "#     road_data[f'path{i+1}'][\"nodes\"] = (nodes1[i], nodes2[i])\n",
    "#     road_data[f'path{i+1}'][\"osmid\"]  = osmids[i]\n",
    "#     i+=1\n",
    "\n",
    "# pprint(road_data)\n",
    "\n",
    "# # with open(\"test_data.json\", \"w\") as file:\n",
    "# #     json.dump(road_data, file, indent=4)\n"
   ]
  }
 ],
 "metadata": {
  "kernelspec": {
   "display_name": "vrpvenv",
   "language": "python",
   "name": "python3"
  },
  "language_info": {
   "codemirror_mode": {
    "name": "ipython",
    "version": 3
   },
   "file_extension": ".py",
   "mimetype": "text/x-python",
   "name": "python",
   "nbconvert_exporter": "python",
   "pygments_lexer": "ipython3",
   "version": "3.13.0"
  }
 },
 "nbformat": 4,
 "nbformat_minor": 2
}
